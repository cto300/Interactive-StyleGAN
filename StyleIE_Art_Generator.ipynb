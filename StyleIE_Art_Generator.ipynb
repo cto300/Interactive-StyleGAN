{
  "nbformat": 4,
  "nbformat_minor": 0,
  "metadata": {
    "colab": {
      "name": "StyleIE_Art_Generator.ipynb",
      "provenance": [],
      "collapsed_sections": [],
      "authorship_tag": "ABX9TyOfQCRNd5XcMHjOIEY7BK1Z",
      "include_colab_link": true
    },
    "kernelspec": {
      "name": "python3",
      "display_name": "Python 3"
    },
    "accelerator": "GPU"
  },
  "cells": [
    {
      "cell_type": "markdown",
      "metadata": {
        "id": "view-in-github",
        "colab_type": "text"
      },
      "source": [
        "<a href=\"https://colab.research.google.com/github/cto300/Interactive-StyleGAN/blob/master/StyleIE_Art_Generator.ipynb\" target=\"_parent\"><img src=\"https://colab.research.google.com/assets/colab-badge.svg\" alt=\"Open In Colab\"/></a>"
      ]
    },
    {
      "cell_type": "markdown",
      "metadata": {
        "id": "EOfz4unPU9Dk",
        "colab_type": "text"
      },
      "source": [
        "# Style-Based Deep Interactive Evolution: Generating Neural Art with Generative Adversarial Networks and Interactive Evolutionary Computation \n # Style-IE"
      ]
    },
    {
      "cell_type": "markdown",
      "metadata": {
        "id": "r0hCB38kbog_",
        "colab_type": "text"
      },
      "source": [
        "## Program setup\n"
      ]
    },
    {
      "cell_type": "code",
      "metadata": {
        "id": "VegwYfR3cWGd",
        "colab_type": "code",
        "colab": {}
      },
      "source": [
        "!rm -rf sample_data\n",
        "!git clone https://github.com/cto300/Interactive-StyleGAN\n",
        "\n",
        "%cd Interactive-StyleGAN\n",
        "\n",
        "%tensorflow_version 1.x \n",
        "from crossfunctions import *\n",
        "import numpy as np\n",
        "import math\n",
        "import random\n",
        "\n",
        "url = 'https://drive.google.com/uc?id=1h6-8Gd_yoVMW9_Uo7iaVDli6CoCve2qK&export=download'\n",
        "\n",
        "tf.InteractiveSession()\n",
        "\n",
        "with dnnlib.util.open_url(url) as f:\n",
        "\t_G, _D, Gs = pickle.load(f)\n",
        " \n",
        "test = 1\n",
        "gen = 0\n",
        "\n",
        "rnd = np.random.RandomState(None)\n",
        "latents = rnd.randn(20, Gs.input_shape[1])\n",
        "dlatents = Gs.components.mapping.run(latents, None)\n"
      ],
      "execution_count": null,
      "outputs": []
    },
    {
      "cell_type": "markdown",
      "metadata": {
        "id": "_wkwn16N15wP",
        "colab_type": "text"
      },
      "source": [
        "###**Step 1** \n",
        "Generate the first generation"
      ]
    },
    {
      "cell_type": "code",
      "metadata": {
        "id": "8G1gbVSHethU",
        "colab_type": "code",
        "colab": {
          "base_uri": "https://localhost:8080/",
          "height": 167
        },
        "outputId": "9d8bb3f4-35ca-42fd-a308-d53e4d755a7f"
      },
      "source": [
        "print(\"Generación actual: \" + str(gen))\n",
        "dlatents, gen = deepsie(Gs, test, gen, dlatents, indices = None, foreign = 0, noise = 0)"
      ],
      "execution_count": null,
      "outputs": [
        {
          "output_type": "error",
          "ename": "NameError",
          "evalue": "ignored",
          "traceback": [
            "\u001b[0;31m---------------------------------------------------------------------------\u001b[0m",
            "\u001b[0;31mNameError\u001b[0m                                 Traceback (most recent call last)",
            "\u001b[0;32m<ipython-input-2-7e7a670f4d08>\u001b[0m in \u001b[0;36m<module>\u001b[0;34m()\u001b[0m\n\u001b[0;32m----> 1\u001b[0;31m \u001b[0mlatents\u001b[0m\u001b[0;34m,\u001b[0m \u001b[0mgen\u001b[0m \u001b[0;34m=\u001b[0m \u001b[0mdeepie\u001b[0m\u001b[0;34m(\u001b[0m\u001b[0mGs\u001b[0m\u001b[0;34m,\u001b[0m \u001b[0mtest\u001b[0m\u001b[0;34m,\u001b[0m \u001b[0mgen\u001b[0m\u001b[0;34m,\u001b[0m \u001b[0mlatents\u001b[0m\u001b[0;34m,\u001b[0m \u001b[0mindices\u001b[0m \u001b[0;34m=\u001b[0m \u001b[0;32mNone\u001b[0m\u001b[0;34m,\u001b[0m \u001b[0mforeign\u001b[0m \u001b[0;34m=\u001b[0m \u001b[0;36m0\u001b[0m\u001b[0;34m,\u001b[0m \u001b[0mnoise\u001b[0m \u001b[0;34m=\u001b[0m \u001b[0;36m0\u001b[0m\u001b[0;34m)\u001b[0m\u001b[0;34m\u001b[0m\u001b[0;34m\u001b[0m\u001b[0m\n\u001b[0m",
            "\u001b[0;31mNameError\u001b[0m: name 'deepie' is not defined"
          ]
        }
      ]
    },
    {
      "cell_type": "markdown",
      "metadata": {
        "id": "AJ9ppmyZ2End",
        "colab_type": "text"
      },
      "source": [
        "###**Step 2** \n",
        "Select images for breedings, foreign migrants and mutation parameter."
      ]
    },
    {
      "cell_type": "code",
      "metadata": {
        "id": "QR1JmxUTgKvs",
        "colab_type": "code",
        "colab": {}
      },
      "source": [
        "indices = [2,11]\n",
        "migrantes = 0\n",
        "mut = 0.1"
      ],
      "execution_count": null,
      "outputs": []
    },
    {
      "cell_type": "markdown",
      "metadata": {
        "id": "7OFGrMEBgD7e",
        "colab_type": "text"
      },
      "source": [
        "\n",
        "The process:\n",
        "\n",
        "\n",
        "1.   Create the first generation (Step 1)\n",
        "2.   Select the desired images for breeding, choice the number of migrants and the mutation paramenter (Step 2)\n",
        "3.   Generate the next generation  with the selected images and parameters (Step 3)\n",
        "4.   Repeat step 2 and 3 until the satisfactory resutls\n",
        "\n",
        "\n",
        " \n",
        "\n"
      ]
    },
    {
      "cell_type": "markdown",
      "metadata": {
        "id": "STeNM0QJ2PPs",
        "colab_type": "text"
      },
      "source": [
        "###**Step 3** \n",
        "Create next generation"
      ]
    },
    {
      "cell_type": "code",
      "metadata": {
        "id": "Q_W73j1wjOhL",
        "colab_type": "code",
        "colab": {}
      },
      "source": [
        "print(\"Generación actual: \" + str(gen))\n",
        "dlatents, gen = deepsie(Gs, test, gen, dlatents, indices, migrantes, mut)"
      ],
      "execution_count": null,
      "outputs": []
    },
    {
      "cell_type": "markdown",
      "metadata": {
        "id": "qBLXFZ59mEiP",
        "colab_type": "text"
      },
      "source": [
        "#Generate zip for downloading with select images in each generation"
      ]
    },
    {
      "cell_type": "code",
      "metadata": {
        "id": "r3kg-bu-tsKd",
        "colab_type": "code",
        "colab": {
          "base_uri": "https://localhost:8080/",
          "height": 67
        },
        "outputId": "8681ca75-be80-4040-d3a7-c1d0b8d71edc"
      },
      "source": [
        "!zip -r /content/Interactive-StyleGAN/DeepSIE/Test1/selected_B.zip /content/Interactive-StyleGAN/DeepSIE/Test1/selected_B\n"
      ],
      "execution_count": null,
      "outputs": [
        {
          "output_type": "stream",
          "text": [
            "\tzip warning: name not matched: /content/Interactive-StyleGAN/DeepSIE/Test1/selected_B\n",
            "\n",
            "zip error: Nothing to do! (try: zip -r /content/Interactive-StyleGAN/DeepSIE/Test1/selected_B.zip . -i /content/Interactive-StyleGAN/DeepSIE/Test1/selected_B)\n"
          ],
          "name": "stdout"
        }
      ]
    },
    {
      "cell_type": "code",
      "metadata": {
        "id": "FhInAUczWWUi",
        "colab_type": "code",
        "colab": {}
      },
      "source": [
        ""
      ],
      "execution_count": null,
      "outputs": []
    }
  ]
}
