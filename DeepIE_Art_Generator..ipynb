{
  "nbformat": 4,
  "nbformat_minor": 0,
  "metadata": {
    "colab": {
      "name": "DeepIE.ipynb",
      "provenance": [],
      "collapsed_sections": []
    },
    "kernelspec": {
      "name": "python3",
      "display_name": "Python 3"
    },
    "accelerator": "GPU"
  },
  "cells": [
    {
      "cell_type": "markdown",
      "metadata": {
        "id": "b2VF9C-oKcny"
      },
      "source": [
        "# **Style-Based Deep Interactive Evolution: Generating Neural Art with Generative Adversarial Networks and Interactive Evolutionary Computation**"
      ]
    },
    {
      "cell_type": "markdown",
      "metadata": {
        "id": "HaPl9YDbKtxm"
      },
      "source": [
        "# **DeepIE**"
      ]
    },
    {
      "cell_type": "markdown",
      "metadata": {
        "id": "r0hCB38kbog_"
      },
      "source": [
        "## Program setup"
      ]
    },
    {
      "cell_type": "code",
      "metadata": {
        "id": "VegwYfR3cWGd"
      },
      "source": [
        "!rm -rf sample_data\n",
        "!git clone https://github.com/cto300/Interactive-StyleGAN\n",
        "\n",
        "%cd Interactive-StyleGAN\n",
        "\n",
        "%tensorflow_version 1.x \n",
        "from crossfunctions import *\n",
        "import numpy as np\n",
        "import math\n",
        "import random\n",
        "\n",
        "url = 'https://drive.google.com/uc?id=1h6-8Gd_yoVMW9_Uo7iaVDli6CoCve2qK&export=download'\n",
        "\n",
        "tf.InteractiveSession()\n",
        "\n",
        "with dnnlib.util.open_url(url) as f:\n",
        "\t_G, _D, Gs = pickle.load(f)\n",
        " \n",
        "test = 1\n",
        "gen = 0\n",
        "\n",
        "rnd = np.random.RandomState(None)\n",
        "latents = rnd.randn(20, Gs.input_shape[1])\n",
        "\n"
      ],
      "execution_count": null,
      "outputs": []
    },
    {
      "cell_type": "markdown",
      "metadata": {
        "id": "qmeW3B0d4Fm7"
      },
      "source": [
        "##**Step 1**\n",
        "\n",
        "Generate the first generation"
      ]
    },
    {
      "cell_type": "code",
      "metadata": {
        "id": "8G1gbVSHethU",
        "colab": {
          "base_uri": "https://localhost:8080/",
          "height": 167
        },
        "outputId": "9d8bb3f4-35ca-42fd-a308-d53e4d755a7f"
      },
      "source": [
        "print(\"Generación actual: \" + str(gen))\n",
        "latents, gen = deepie(Gs, test, gen, latents, indices = None, foreign = 0, noise = 0)"
      ],
      "execution_count": null,
      "outputs": [
        {
          "output_type": "error",
          "ename": "NameError",
          "evalue": "ignored",
          "traceback": [
            "\u001b[0;31m---------------------------------------------------------------------------\u001b[0m",
            "\u001b[0;31mNameError\u001b[0m                                 Traceback (most recent call last)",
            "\u001b[0;32m<ipython-input-2-7e7a670f4d08>\u001b[0m in \u001b[0;36m<module>\u001b[0;34m()\u001b[0m\n\u001b[0;32m----> 1\u001b[0;31m \u001b[0mlatents\u001b[0m\u001b[0;34m,\u001b[0m \u001b[0mgen\u001b[0m \u001b[0;34m=\u001b[0m \u001b[0mdeepie\u001b[0m\u001b[0;34m(\u001b[0m\u001b[0mGs\u001b[0m\u001b[0;34m,\u001b[0m \u001b[0mtest\u001b[0m\u001b[0;34m,\u001b[0m \u001b[0mgen\u001b[0m\u001b[0;34m,\u001b[0m \u001b[0mlatents\u001b[0m\u001b[0;34m,\u001b[0m \u001b[0mindices\u001b[0m \u001b[0;34m=\u001b[0m \u001b[0;32mNone\u001b[0m\u001b[0;34m,\u001b[0m \u001b[0mforeign\u001b[0m \u001b[0;34m=\u001b[0m \u001b[0;36m0\u001b[0m\u001b[0;34m,\u001b[0m \u001b[0mnoise\u001b[0m \u001b[0;34m=\u001b[0m \u001b[0;36m0\u001b[0m\u001b[0;34m)\u001b[0m\u001b[0;34m\u001b[0m\u001b[0;34m\u001b[0m\u001b[0m\n\u001b[0m",
            "\u001b[0;31mNameError\u001b[0m: name 'deepie' is not defined"
          ]
        }
      ]
    },
    {
      "cell_type": "markdown",
      "metadata": {
        "id": "zVyRFj6B4Jx7"
      },
      "source": [
        "###**Step 2** \n",
        "\n",
        "Select images for breedings, foreign migrants and mutation parameter."
      ]
    },
    {
      "cell_type": "code",
      "metadata": {
        "id": "QR1JmxUTgKvs"
      },
      "source": [
        "indices = [2,11]\n",
        "migrantes = 0\n",
        "mut = 0.1"
      ],
      "execution_count": null,
      "outputs": []
    },
    {
      "cell_type": "markdown",
      "metadata": {
        "id": "7OFGrMEBgD7e"
      },
      "source": [
        "\n",
        "The process:\n",
        "\n",
        "Create the first generation (Step 1)\n",
        "\n",
        "1.   Select the desired images for breeding, choice the number of migrants and the mutation paramenter (Step 2)\n",
        "2.   Generate the next generation with the selected images and parameters (Step 3)\n",
        "3. Repeat step 2 and 3 until the satisfactory resutls\n",
        "\n",
        "\n",
        "\n",
        "\n",
        "\n",
        "\n",
        "\n"
      ]
    },
    {
      "cell_type": "markdown",
      "metadata": {
        "id": "zC1rd-py4Ncr"
      },
      "source": [
        "##**Step 3** \n",
        "\n",
        "Create next generation"
      ]
    },
    {
      "cell_type": "code",
      "metadata": {
        "id": "Q_W73j1wjOhL"
      },
      "source": [
        "print(\"Generación actual: \" + str(gen))\n",
        "latents, gen = deepie(Gs, test, gen, latents, indices, migrantes, mut)"
      ],
      "execution_count": null,
      "outputs": []
    },
    {
      "cell_type": "markdown",
      "metadata": {
        "id": "dNKO_srGlyy4"
      },
      "source": [
        "# **Generate zip for downloading with select images in each generation**"
      ]
    },
    {
      "cell_type": "code",
      "metadata": {
        "id": "r3kg-bu-tsKd"
      },
      "source": [
        "!zip -r /content/Interactive-StyleGAN/Deepie/Test1/selected_A.zip /content/Interactive-StyleGAN/Deepie/Test1/selected_A\n"
      ],
      "execution_count": null,
      "outputs": []
    }
  ]
}
